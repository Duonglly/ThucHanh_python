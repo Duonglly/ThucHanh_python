{
 "cells": [
  {
   "cell_type": "code",
   "execution_count": null,
   "id": "a4473db0",
   "metadata": {},
   "outputs": [
    {
     "name": "stdout",
     "output_type": "stream",
     "text": [
      "\n",
      "🧾 Danh sách người gửi xe có chi phí trên 20k:\n",
      "{'Chủ xe': 'Trần Thị B', 'Loại xe': 'Xe máy', 'Giờ gửi': 5, 'Biển số': '59X1-12345', 'Thành tiền': 25000}\n",
      "{'Chủ xe': 'Phạm Văn C', 'Loại xe': 'Ô tô', 'Giờ gửi': 4, 'Biển số': '51H-56789', 'Thành tiền': 40000}\n",
      "{'Chủ xe': 'Lê Thị D', 'Loại xe': 'Xe điện', 'Giờ gửi': 7, 'Biển số': '72B1-11122', 'Thành tiền': 24500}\n",
      "✅ Dữ liệu đã được ghi vào file: du_lieu_gui_xe.xlsx\n"
     ]
    }
   ],
   "source": [
    "#bài3\n",
    "import pandas as pd\n",
    "\n",
    "class MoneyTime:\n",
    "    def __init__(self):\n",
    "        self.gia_tien = {\n",
    "            \"Xe đạp\": 2000,\n",
    "            \"Xe máy\": 5000,\n",
    "            \"Xe điện\": 3500,\n",
    "            \"Ô tô\": 10000\n",
    "        }\n",
    "\n",
    "    def update_price(self, vehicle_type, new_price):\n",
    "        if vehicle_type in self.gia_tien:\n",
    "            self.gia_tien[vehicle_type] = new_price\n",
    "        else:\n",
    "            print(f\"❌ Không tìm thấy loại xe '{vehicle_type}' để cập nhật.\")\n",
    "\n",
    "    def get_price(self, vehicle_type):\n",
    "        return self.gia_tien.get(vehicle_type, 0)\n",
    "\n",
    "\n",
    "class InfoXe:\n",
    "    def __init__(self, loai_xe, chu_xe, gio_gui, bien_so=None):\n",
    "        self.loai_xe = loai_xe\n",
    "        self.chu_xe = chu_xe\n",
    "        self.gio_gui = gio_gui\n",
    "        self.bien_so = bien_so\n",
    "\n",
    "    def tinh_tien(self, money_table):\n",
    "        return self.gio_gui * money_table.get_price(self.loai_xe)\n",
    "\n",
    "\n",
    "class NhaDeXe:\n",
    "    def __init__(self):\n",
    "        self.ds_xe = []\n",
    "        self.money_table = MoneyTime()\n",
    "\n",
    "    def them_xe(self, xe):\n",
    "        self.ds_xe.append(xe)\n",
    "\n",
    "    def sua_xe(self, bien_so, **kwargs):\n",
    "        for xe in self.ds_xe:\n",
    "            if xe.bien_so == bien_so:\n",
    "                xe.loai_xe = kwargs.get(\"loai_xe\", xe.loai_xe)\n",
    "                xe.chu_xe = kwargs.get(\"chu_xe\", xe.chu_xe)\n",
    "                xe.gio_gui = kwargs.get(\"gio_gui\", xe.gio_gui)\n",
    "                break\n",
    "\n",
    "    def xoa_xe(self, bien_so):\n",
    "        self.ds_xe = [xe for xe in self.ds_xe if xe.bien_so != bien_so]\n",
    "\n",
    "    def cap_nhat_gia(self, loai_xe, gia_moi):\n",
    "        self.money_table.update_price(loai_xe, gia_moi)\n",
    "\n",
    "    def tinh_tien_gui_xe(self):\n",
    "        return [\n",
    "            {\n",
    "                \"Chủ xe\": xe.chu_xe,\n",
    "                \"Loại xe\": xe.loai_xe,\n",
    "                \"Giờ gửi\": xe.gio_gui,\n",
    "                \"Biển số\": xe.bien_so,\n",
    "                \"Thành tiền\": xe.tinh_tien(self.money_table)\n",
    "            }\n",
    "            for xe in self.ds_xe\n",
    "        ]\n",
    "\n",
    "    def xuat_nguoi_gui_tren_20k(self):\n",
    "        return [xe for xe in self.tinh_tien_gui_xe() if xe[\"Thành tiền\"] > 20000]\n",
    "\n",
    "    def ghi_excel(self, ten_file='du_lieu_gui_xe.xlsx'):\n",
    "        df = pd.DataFrame(self.tinh_tien_gui_xe())\n",
    "        df.to_excel(ten_file, index=False)\n",
    "        print(f\"✅ Dữ liệu đã được ghi vào file: {ten_file}\")\n",
    "\n",
    "\n",
    "# --- Demo sử dụng ---\n",
    "nha_xe = NhaDeXe()\n",
    "\n",
    "# Thêm một số xe gửi\n",
    "nha_xe.them_xe(InfoXe(\"Xe đạp\", \"Nguyễn Văn A\", 3))\n",
    "nha_xe.them_xe(InfoXe(\"Xe máy\", \"Trần Thị B\", 5, \"59X1-12345\"))\n",
    "nha_xe.them_xe(InfoXe(\"Ô tô\", \"Phạm Văn C\", 3, \"51H-56789\"))\n",
    "nha_xe.them_xe(InfoXe(\"Xe điện\", \"Lê Thị D\", 7, \"72B1-11122\"))\n",
    "\n",
    "# Cập nhật giá (nếu cần)\n",
    "# nha_xe.cap_nhat_gia(\"Xe máy\", 6000)\n",
    "\n",
    "# Sửa thông tin xe (ví dụ thay đổi giờ gửi)\n",
    "nha_xe.sua_xe(\"51H-56789\", gio_gui=4)\n",
    "\n",
    "# Xóa xe nếu cần\n",
    "# nha_xe.xoa_xe(\"72B1-11122\")\n",
    "\n",
    "# In danh sách người gửi xe có tiền > 20k\n",
    "tren_20k = nha_xe.xuat_nguoi_gui_tren_20k()\n",
    "print(\"\\n🧾 Danh sách người gửi xe có chi phí trên 20k:\")\n",
    "for nguoi in tren_20k:\n",
    "    print(nguoi)\n",
    "\n",
    "# Ghi ra file Excel\n",
    "nha_xe.ghi_excel()\n"
   ]
  },
  {
   "cell_type": "code",
   "execution_count": null,
   "id": "9b07164e",
   "metadata": {},
   "outputs": [
    {
     "name": "stdout",
     "output_type": "stream",
     "text": [
      "Đã lưu dữ liệu vào file 'kalos_pokedex.csv'\n"
     ]
    }
   ],
   "source": [
    "#bài 1\n",
    "import requests\n",
    "import pandas as pd\n",
    "\n",
    "# Tải dữ liệu từ URL chứa JSON Pokémon\n",
    "url = 'https://gist.githubusercontent.com/yi-jiayu/ea4f0a6c5b9734dd82920cf739b1f707/raw/pokemon.min.json'\n",
    "response = requests.get(url)\n",
    "data = response.json()  # `data` là một danh sách các Pokémon\n",
    "\n",
    "# Trích xuất các trường cần thiết\n",
    "pokemon_list = []\n",
    "for pokemon in data:\n",
    "    pokemon_info = {\n",
    "        'number': pokemon.get('number'),\n",
    "        'name': pokemon.get('name'),\n",
    "        'height': pokemon.get('height'),\n",
    "        'weight': pokemon.get('weight'),\n",
    "        'type': ', '.join(pokemon.get('type', [])),\n",
    "        'ThumbnailImage': pokemon.get('ThumbnailImage')\n",
    "    }\n",
    "    pokemon_list.append(pokemon_info)\n",
    "\n",
    "# Tạo DataFrame và lưu vào file CSV\n",
    "df = pd.DataFrame(pokemon_list)\n",
    "df.to_csv('kalos_pokedex.csv', index=False)\n",
    "print(\"Đã lưu dữ liệu vào file 'kalos_pokedex.csv'\")\n"
   ]
  },
  {
   "cell_type": "code",
   "execution_count": null,
   "id": "711c4509",
   "metadata": {},
   "outputs": [],
   "source": []
  },
  {
   "cell_type": "code",
   "execution_count": 5,
   "id": "d17f2f99",
   "metadata": {},
   "outputs": [
    {
     "name": "stdout",
     "output_type": "stream",
     "text": [
      "Các Pokémon có loại 'Poison':\n",
      "     number       name           type\n",
      "0         1  Bulbasaur  grass, poison\n",
      "1         2    Ivysaur  grass, poison\n",
      "2         3   Venusaur  grass, poison\n",
      "3         3   Venusaur  grass, poison\n",
      "16       13     Weedle    bug, poison\n",
      "..      ...        ...            ...\n",
      "887     747   Mareanie  poison, water\n",
      "888     748    Toxapex  poison, water\n",
      "897     757   Salandit   poison, fire\n",
      "898     758   Salazzle   poison, fire\n",
      "934     793   Nihilego   rock, poison\n",
      "\n",
      "[70 rows x 3 columns]\n"
     ]
    }
   ],
   "source": [
    "# Đọc dữ liệu từ file CSV\n",
    "df = pd.read_csv('kalos_pokedex.csv')\n",
    "\n",
    "# Lọc các Pokémon có loại 'Poison'\n",
    "poison_pokemon = df[df['type'].str.contains('Poison', case=False)]\n",
    "\n",
    "# Hiển thị kết quả\n",
    "print(\"Các Pokémon có loại 'Poison':\")\n",
    "print(poison_pokemon[['number', 'name', 'type']])\n"
   ]
  },
  {
   "cell_type": "code",
   "execution_count": 9,
   "id": "9e595348",
   "metadata": {},
   "outputs": [
    {
     "name": "stdout",
     "output_type": "stream",
     "text": [
      "✅ Đã lưu dữ liệu đã lọc vào file 'Data_new.csv'\n"
     ]
    }
   ],
   "source": [
    "import pandas as pd\n",
    "\n",
    "# Đọc dữ liệu từ Google Sheets\n",
    "url = 'https://docs.google.com/spreadsheets/d/1BnOzoEG0s6c8MpiUANZ0_pawXNHqdkid/export?format=csv'\n",
    "df = pd.read_csv(url)\n",
    "\n",
    "# Ép kiểu số nguyên cho các cột cần xử lý\n",
    "cols_to_int = ['vpv2', 'pDisCharge', 'prec', 'vBus1', 'vBus2']\n",
    "for col in cols_to_int:\n",
    "    df[col] = pd.to_numeric(df[col], errors='coerce').fillna(0).astype(int)\n",
    "\n",
    "# Lọc đúng điều kiện: vpv2 chẵn, pDisCharge chẵn, prec lẻ\n",
    "filtered_df = df[\n",
    "    (df['vpv2'] % 2 == 0) &\n",
    "    (df['pDisCharge'] % 2 == 0) &\n",
    "    (df['prec'] % 2 == 1)\n",
    "].copy()  # copy() để tránh cảnh báo\n",
    "\n",
    "# Tạo cột mới tính tổng vBus1 + vBus2\n",
    "filtered_df['Sum_vBUS'] = filtered_df['vBus1'] + filtered_df['vBus2']\n",
    "\n",
    "# Lưu kết quả ra file\n",
    "filtered_df.to_csv('Data_new.csv', index=False)\n",
    "print(\"✅ Đã lưu dữ liệu đã lọc vào file 'Data_new.csv'\")\n"
   ]
  },
  {
   "cell_type": "code",
   "execution_count": 10,
   "id": "8256fbec",
   "metadata": {},
   "outputs": [
    {
     "name": "stdout",
     "output_type": "stream",
     "text": [
      "c:\\Users\\Duong Ly\\Downloads\\Microsoft VS Code\n"
     ]
    }
   ],
   "source": [
    "import os\n",
    "print(os.getcwd())\n"
   ]
  }
 ],
 "metadata": {
  "kernelspec": {
   "display_name": "base",
   "language": "python",
   "name": "python3"
  },
  "language_info": {
   "codemirror_mode": {
    "name": "ipython",
    "version": 3
   },
   "file_extension": ".py",
   "mimetype": "text/x-python",
   "name": "python",
   "nbconvert_exporter": "python",
   "pygments_lexer": "ipython3",
   "version": "3.12.7"
  }
 },
 "nbformat": 4,
 "nbformat_minor": 5
}
